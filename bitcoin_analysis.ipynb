{
 "cells": [
  {
   "cell_type": "markdown",
   "id": "c1a08017",
   "metadata": {},
   "source": [
    "Before you turn this problem in, make sure everything runs as expected. First, **restart the kernel** (in the menubar, select Kernel $\\rightarrow$ Restart) and then **run all cells** (in the menubar, select Cell $\\rightarrow$ Run All).\n",
    "\n",
    "Make sure you fill in any place that says `YOUR CODE HERE` or \"YOUR ANSWER HERE\", as well as your name and collaborators below:"
   ]
  },
  {
   "cell_type": "code",
   "execution_count": null,
   "id": "f8756ad5",
   "metadata": {},
   "outputs": [],
   "source": [
    "NAME = \"Nicholas Kushnir\"\n",
    "COLLABORATORS = \"Arpan Chauhan, Mann Patel\""
   ]
  },
  {
   "cell_type": "code",
   "execution_count": null,
   "id": "ebd36616-6e0d-4963-9ab9-3e1f73ceee75",
   "metadata": {},
   "outputs": [],
   "source": [
    "pandas, sqlite3"
   ]
  },
  {
   "cell_type": "code",
   "execution_count": 1,
   "id": "cef1b239-7986-4968-a290-b4419a423c24",
   "metadata": {},
   "outputs": [],
   "source": [
    "import pandas as pd\n",
    "import sqlite3\n",
    "import matplotlib.pyplot as plt\n",
    "from statsmodels.tsa.holtwinters import ExponentialSmoothing\n",
    "import csv\n",
    "from datetime import datetime"
   ]
  },
  {
   "cell_type": "code",
   "execution_count": 2,
   "id": "2203465f-f861-42b6-a030-a9ee7094f5cc",
   "metadata": {},
   "outputs": [
    {
     "name": "stdout",
     "output_type": "stream",
     "text": [
      "Index(['Date', 'Open', 'High', 'Low', 'Close', 'Volume'], dtype='object')\n"
     ]
    }
   ],
   "source": [
    "#Loading the database\n",
    "\n",
    "\n",
    "\n",
    "file_path = '/home/njk56/cs210/Course Project Proposal/BTC-cleaned.csv'\n",
    "data = pd.read_csv(file_path)\n",
    "print(data.columns)\n",
    "\n",
    "data_cleaned = data.copy()\n",
    "numeric_columns = ['Open', 'High', 'Low', 'Close', 'Volume']\n",
    "\n",
    "for column in numeric_columns:\n",
    "    data_cleaned[column] = data_cleaned[column].str.replace(',', '').astype(float)\n",
    "\n",
    "db_path = 'bitcoin_data.db'\n",
    "conn = sqlite3.connect(db_path)\n",
    "cursor = conn.cursor()\n",
    "\n",
    "cursor.execute('''\n",
    "CREATE TABLE IF NOT EXISTS bitcoin_data (\n",
    "    Date TEXT PRIMARY KEY,\n",
    "    Open REAL,\n",
    "    High REAL,\n",
    "    Low REAL,\n",
    "    Close REAL,\n",
    "    Volume REAL\n",
    ")\n",
    "''')\n",
    "\n",
    "data_cleaned.to_sql('bitcoin_data', conn, if_exists='replace', index=False)\n",
    "\n",
    "conn.commit()\n"
   ]
  },
  {
   "cell_type": "code",
   "execution_count": 3,
   "id": "464c88fa-c97e-44ac-a544-e1d22203cdc8",
   "metadata": {},
   "outputs": [
    {
     "name": "stdout",
     "output_type": "stream",
     "text": [
      "     Earliest      Latest\n",
      "0  2014-09-17  2024-11-22\n"
     ]
    }
   ],
   "source": [
    "conn = sqlite3.connect(db_path)\n",
    "query = \"SELECT MIN(Date) as Earliest, MAX(Date) as Latest FROM bitcoin_data;\"\n",
    "date_range = pd.read_sql_query(query, conn)\n",
    "\n",
    "print(date_range)\n",
    "\n"
   ]
  },
  {
   "cell_type": "code",
   "execution_count": null,
   "id": "17ed8c5d-87be-4f4a-877e-001edadaf9bb",
   "metadata": {},
   "outputs": [],
   "source": [
    "#Bitcoin Over Lifetime\n",
    "query = f\"\"\"\n",
    "SELECT * \n",
    "FROM bitcoin_data;\n",
    "\"\"\"\n",
    "data = pd.read_sql_query(query, conn)\n",
    "\n",
    "\n",
    "data['Date'] = pd.to_datetime(data['Date'])\n",
    "\n",
    "plt.figure(figsize=(12, 6))\n",
    "plt.plot(data['Date'], data['Close'], label='Close Price', color='blue', linewidth=2)\n",
    "\n",
    "plt.title('Bitcoin Prices Over Its Lifetime', fontsize=16)\n",
    "plt.xlabel('Date', fontsize=12)\n",
    "plt.ylabel('Close Price (USD)', fontsize=12)\n",
    "plt.grid(visible=True, linestyle='--', alpha=0.5)\n",
    "plt.legend(fontsize=12)\n",
    "plt.tight_layout()\n",
    "\n",
    "plt.show()"
   ]
  },
  {
   "cell_type": "code",
   "execution_count": 5,
   "id": "363ca859-b188-4382-9e1c-c92e0363cc5b",
   "metadata": {},
   "outputs": [
    {
     "name": "stdout",
     "output_type": "stream",
     "text": [
      "           Date      Open      High       Low     Close        Volume\n",
      "0    2022-05-01  37713.27  38627.86  37585.79  38469.09  2.700276e+10\n",
      "1    2022-04-30  38605.86  38771.21  37697.94  37714.88  2.389571e+10\n",
      "2    2022-04-29  39768.62  39887.27  38235.54  38609.82  3.088299e+10\n",
      "3    2022-04-28  39241.43  40269.46  38941.42  39773.83  3.390370e+10\n",
      "4    2022-04-27  38120.30  39397.92  37997.31  39241.12  3.098102e+10\n",
      "..          ...       ...       ...       ...       ...           ...\n",
      "878  2019-12-05   7253.24   7743.43   7232.68   7448.31  1.881609e+10\n",
      "879  2019-12-04   7320.13   7539.78   7170.92   7252.03  2.166424e+10\n",
      "880  2019-12-03   7323.98   7418.86   7229.36   7320.15  1.479749e+10\n",
      "881  2019-12-02   7424.04   7474.82   7233.40   7321.99  1.708204e+10\n",
      "882  2019-12-01   7571.62   7571.62   7291.34   7424.29  1.872071e+10\n",
      "\n",
      "[883 rows x 6 columns]\n"
     ]
    }
   ],
   "source": [
    "#Covid price data\n",
    "\n",
    "query = f\"\"\"\n",
    "SELECT * \n",
    "FROM bitcoin_data \n",
    "WHERE Date >= '2019-12-01' AND Date <= '2022-05-01';\n",
    "\"\"\"\n",
    "covid_data = pd.read_sql_query(query, conn)\n",
    "\n",
    "print(covid_data)"
   ]
  },
  {
   "cell_type": "code",
   "execution_count": 7,
   "id": "3372919c-f28b-4803-a5a2-cf7a6f313ff6",
   "metadata": {},
   "outputs": [
    {
     "name": "stdout",
     "output_type": "stream",
     "text": [
      "Data from 2019-12-01 to 2022-05-01 has been written to covid.csv\n"
     ]
    }
   ],
   "source": [
    "#Save csv\n",
    "\n",
    "def fetch_data_by_date_range(start_date, end_date, output_file):\n",
    "    conn = sqlite3.connect('bitcoin_data.db')\n",
    "    c = conn.cursor()\n",
    "    try:\n",
    "        datetime.strptime(start_date, '%Y-%m-%d')\n",
    "        datetime.strptime(end_date, '%Y-%m-%d')\n",
    "    except ValueError:\n",
    "        print(\"Incorrect date format. Please use YYYY-MM-DD.\")\n",
    "        return\n",
    "\n",
    "    query = \"\"\"SELECT date, open FROM bitcoin_data \n",
    "               WHERE date BETWEEN ? AND ?\"\"\"\n",
    "    c.execute(query, (f\"{start_date} 00:00:00\", f\"{end_date} 23:59:59\")) \n",
    "    \n",
    "    data = c.fetchall()\n",
    "    \n",
    "\n",
    "    if data:\n",
    "        with open(output_file, mode='w', newline='') as file:\n",
    "            writer = csv.writer(file)\n",
    "            writer.writerow([\"Date\", \"Price\"])  \n",
    "            for row in data:\n",
    "                writer.writerow(row)\n",
    "\n",
    "        print(f\"Data from {start_date} to {end_date} has been written to {output_file}\")\n",
    "    else:\n",
    "        print(f\"No data found for the date range from {start_date} to {end_date}\")\n",
    "if __name__ == \"__main__\":\n",
    "    start_date_input = '2019-12-01'\n",
    "    end_date_input = '2022-05-01'\n",
    "    output_file = 'covid.csv'\n",
    "    fetch_data_by_date_range(start_date_input, end_date_input, output_file)"
   ]
  },
  {
   "cell_type": "code",
   "execution_count": null,
   "id": "9228d62b-04af-40f5-9227-01447b4ebe04",
   "metadata": {},
   "outputs": [],
   "source": [
    "#Plotting Covid price data for Bitcoin\n",
    "covid_data['Date'] = pd.to_datetime(covid_data['Date'])\n",
    "\n",
    "plt.figure(figsize=(12, 6))\n",
    "plt.plot(covid_data['Date'], covid_data['Close'], label='Close Price', color='blue', linewidth=2)\n",
    "\n",
    "plt.title('Bitcoin Prices Over Covid', fontsize=16)\n",
    "plt.xlabel('Date', fontsize=12)\n",
    "plt.ylabel('Close Price (USD)', fontsize=12)\n",
    "plt.grid(visible=True, linestyle='--', alpha=0.5)\n",
    "plt.legend(fontsize=12)\n",
    "plt.tight_layout()\n",
    "\n",
    "plt.show()"
   ]
  },
  {
   "cell_type": "code",
   "execution_count": null,
   "id": "87432225-a8c9-4da9-b183-d889e289c172",
   "metadata": {},
   "outputs": [],
   "source": [
    "# Get high and low from covid and compute percent return\n",
    "\n",
    "start_date = '2019-12-01'\n",
    "end_date = '2022-05-01'\n",
    "\n",
    "highest_price = covid_data['High'].max()\n",
    "lowest_price = covid_data['Low'].min()\n",
    "\n",
    "print(f\"The highest price in the period is: {highest_price}\")\n",
    "print(f\"The lowest price in the period is: {lowest_price}\")\n",
    "\n",
    "covid_return = (highest_price-lowest_price)/lowest_price\n",
    "print(f\"Total return from {start_date} to {end_date}: {covid_return * 100:.2f}%\")"
   ]
  },
  {
   "cell_type": "code",
   "execution_count": null,
   "id": "95c1ad9d-94db-47da-a2ad-fd07652d2cc0",
   "metadata": {},
   "outputs": [],
   "source": [
    "#Look at 2020 election\n",
    "query = f\"\"\"\n",
    "SELECT * \n",
    "FROM bitcoin_data \n",
    "WHERE Date >= '2019-12-01' AND Date <= '2021-04-01';\n",
    "\"\"\"\n",
    "election1_data = pd.read_sql_query(query, conn)\n",
    "\n",
    "election1_data['Date'] = pd.to_datetime(election1_data['Date'])\n",
    "\n",
    "plt.figure(figsize=(12, 6))\n",
    "plt.plot(election1_data['Date'], election1_data['Close'], label='Close Price', color='blue', linewidth=2)\n",
    "\n",
    "plt.title('Bitcoin Prices Over The 2020 Election', fontsize=16)\n",
    "plt.xlabel('Date', fontsize=12)\n",
    "plt.ylabel('Close Price (USD)', fontsize=12)\n",
    "plt.grid(visible=True, linestyle='--', alpha=0.5)\n",
    "plt.legend(fontsize=12)\n",
    "plt.tight_layout()\n",
    "\n",
    "plt.show()"
   ]
  },
  {
   "cell_type": "code",
   "execution_count": 9,
   "id": "ab2f086e-8eb7-4366-b49b-8aa3094c79e8",
   "metadata": {},
   "outputs": [
    {
     "name": "stdout",
     "output_type": "stream",
     "text": [
      "Data from 2019-12-01 to 2021-04-01 has been written to election2020.csv\n"
     ]
    }
   ],
   "source": [
    "#Save csv\n",
    "\n",
    "def fetch_data_by_date_range(start_date, end_date, output_file):\n",
    "    conn = sqlite3.connect('bitcoin_data.db')\n",
    "    c = conn.cursor()\n",
    "    try:\n",
    "        datetime.strptime(start_date, '%Y-%m-%d')\n",
    "        datetime.strptime(end_date, '%Y-%m-%d')\n",
    "    except ValueError:\n",
    "        print(\"Incorrect date format. Please use YYYY-MM-DD.\")\n",
    "        return\n",
    "\n",
    "    query = \"\"\"SELECT date, open FROM bitcoin_data \n",
    "               WHERE date BETWEEN ? AND ?\"\"\"\n",
    "    c.execute(query, (f\"{start_date} 00:00:00\", f\"{end_date} 23:59:59\")) \n",
    "    \n",
    "    data = c.fetchall()\n",
    "    \n",
    "\n",
    "    if data:\n",
    "        with open(output_file, mode='w', newline='') as file:\n",
    "            writer = csv.writer(file)\n",
    "            writer.writerow([\"Date\", \"Price\"])  \n",
    "            for row in data:\n",
    "                writer.writerow(row)\n",
    "\n",
    "        print(f\"Data from {start_date} to {end_date} has been written to {output_file}\")\n",
    "    else:\n",
    "        print(f\"No data found for the date range from {start_date} to {end_date}\")\n",
    "if __name__ == \"__main__\":\n",
    "    start_date_input = '2019-12-01'\n",
    "    end_date_input = '2021-04-01'\n",
    "    output_file = 'election2020.csv'\n",
    "    fetch_data_by_date_range(start_date_input, end_date_input, output_file)"
   ]
  },
  {
   "cell_type": "code",
   "execution_count": null,
   "id": "bac105bf-21cc-4f25-8086-0c9a59383523",
   "metadata": {},
   "outputs": [],
   "source": [
    "# Get high and low from 2020 election and compute percent return\n",
    "\n",
    "start_date = '2019-12-01'\n",
    "end_date = '2021-04-01'\n",
    "\n",
    "highest_price = election1_data['High'].max()\n",
    "lowest_price = election1_data['Low'].min()\n",
    "\n",
    "print(f\"The highest price in the period is: {highest_price}\")\n",
    "print(f\"The lowest price in the period is: {lowest_price}\")\n",
    "\n",
    "election1_return = (highest_price-lowest_price)/lowest_price\n",
    "print(f\"Total return from {start_date} to {end_date}: {election1_return * 100:.2f}%\")"
   ]
  },
  {
   "cell_type": "code",
   "execution_count": null,
   "id": "3519304b-34ff-40d5-bd3e-fc3083e01d55",
   "metadata": {},
   "outputs": [],
   "source": [
    "#2024 Election\n",
    "query = f\"\"\"\n",
    "SELECT * \n",
    "FROM bitcoin_data \n",
    "WHERE Date >= '2023-12-01'\n",
    "\"\"\"\n",
    "election2_data = pd.read_sql_query(query, conn)\n",
    "\n",
    "election2_data['Date'] = pd.to_datetime(election2_data['Date'])\n",
    "\n",
    "plt.figure(figsize=(12, 6))\n",
    "plt.plot(election2_data['Date'], election2_data['Close'], label='Close Price', color='red', linewidth=2)\n",
    "\n",
    "plt.title('Bitcoin Prices Over The 2024 Election', fontsize=16)\n",
    "plt.xlabel('Date', fontsize=12)\n",
    "plt.ylabel('Close Price (USD)', fontsize=12)\n",
    "plt.grid(visible=True, linestyle='--', alpha=0.5)\n",
    "plt.legend(fontsize=12)\n",
    "plt.tight_layout()\n",
    "\n",
    "# Show the chart\n",
    "plt.show()"
   ]
  },
  {
   "cell_type": "code",
   "execution_count": 10,
   "id": "d1c6b183-e918-47d2-8342-320fff8e3430",
   "metadata": {},
   "outputs": [
    {
     "name": "stdout",
     "output_type": "stream",
     "text": [
      "Data from 2023-12-01 to 2024-11-15 has been written to election2024.csv\n"
     ]
    }
   ],
   "source": [
    "#Save csv\n",
    "\n",
    "def fetch_data_by_date_range(start_date, end_date, output_file):\n",
    "    conn = sqlite3.connect('bitcoin_data.db')\n",
    "    c = conn.cursor()\n",
    "    try:\n",
    "        datetime.strptime(start_date, '%Y-%m-%d')\n",
    "        datetime.strptime(end_date, '%Y-%m-%d')\n",
    "    except ValueError:\n",
    "        print(\"Incorrect date format. Please use YYYY-MM-DD.\")\n",
    "        return\n",
    "\n",
    "    query = \"\"\"SELECT date, open FROM bitcoin_data \n",
    "               WHERE date BETWEEN ? AND ?\"\"\"\n",
    "    c.execute(query, (f\"{start_date} 00:00:00\", f\"{end_date} 23:59:59\")) \n",
    "    \n",
    "    data = c.fetchall()\n",
    "    \n",
    "\n",
    "    if data:\n",
    "        with open(output_file, mode='w', newline='') as file:\n",
    "            writer = csv.writer(file)\n",
    "            writer.writerow([\"Date\", \"Price\"])  \n",
    "            for row in data:\n",
    "                writer.writerow(row)\n",
    "\n",
    "        print(f\"Data from {start_date} to {end_date} has been written to {output_file}\")\n",
    "    else:\n",
    "        print(f\"No data found for the date range from {start_date} to {end_date}\")\n",
    "if __name__ == \"__main__\":\n",
    "    start_date_input = '2023-12-01'\n",
    "    end_date_input = '2024-11-15'\n",
    "    output_file = 'election2024.csv'\n",
    "    fetch_data_by_date_range(start_date_input, end_date_input, output_file)"
   ]
  },
  {
   "cell_type": "code",
   "execution_count": null,
   "id": "c9e141e3-e3ce-42bb-b7e9-0d4db29bb65f",
   "metadata": {},
   "outputs": [],
   "source": [
    "# Get high and low from 2024 election and compute percent return\n",
    "\n",
    "start_date = '2023-12-01'\n",
    "\n",
    "\n",
    "highest_price = election2_data['High'].max()\n",
    "lowest_price = election2_data['Low'].min()\n",
    "\n",
    "print(f\"The highest price in the period is: {highest_price}\")\n",
    "print(f\"The lowest price in the period is: {lowest_price}\")\n",
    "\n",
    "election2_return = (highest_price-lowest_price)/lowest_price\n",
    "print(f\"Total return from {start_date} to present: {election2_return * 100:.2f}%\")"
   ]
  },
  {
   "cell_type": "code",
   "execution_count": null,
   "id": "b2e9ccc6-60d0-4f4e-bb00-59d2be1a865c",
   "metadata": {},
   "outputs": [],
   "source": [
    "\n",
    "conn = sqlite3.connect('bitcoin_data.db')\n",
    "query = \"SELECT Date, Close FROM bitcoin_data ORDER BY Date ASC;\"\n",
    "data = pd.read_sql_query(query, conn)\n",
    "\n",
    "data['Date'] = pd.to_datetime(data['Date'])\n",
    "data.set_index('Date', inplace=True)\n",
    "data = data['Close']\n"
   ]
  },
  {
   "cell_type": "code",
   "execution_count": null,
   "id": "cb55871d-ca78-4de3-92ec-e9dcc7985f8a",
   "metadata": {},
   "outputs": [],
   "source": [
    "duplicates = data.index.duplicated(keep=False)\n",
    "if duplicates.any():\n",
    "    print(data[duplicates])\n"
   ]
  },
  {
   "cell_type": "code",
   "execution_count": null,
   "id": "4593db6b-72bc-46b9-b387-ebdf3660cecc",
   "metadata": {},
   "outputs": [],
   "source": [
    "# Remove rows with NaT in the index\n",
    "data = data[data.index.notna()]\n",
    "print(data)\n",
    "print(data.index.isna().sum())\n"
   ]
  },
  {
   "cell_type": "code",
   "execution_count": null,
   "id": "3f0e31ae-0785-45e9-b826-425632350d4f",
   "metadata": {},
   "outputs": [],
   "source": [
    "data = data.asfreq('D')"
   ]
  },
  {
   "cell_type": "code",
   "execution_count": null,
   "id": "45d7f1cb-52ca-45c4-a45f-125f67ea20a4",
   "metadata": {},
   "outputs": [],
   "source": [
    "\n",
    "model = ExponentialSmoothing(data, seasonal='add', trend='add', seasonal_periods=365)\n",
    "hw_model = model.fit()\n",
    "\n",
    "forecast = hw_model.forecast(steps=30)\n"
   ]
  },
  {
   "cell_type": "code",
   "execution_count": null,
   "id": "1a02a6bb-6ad4-4367-9f55-32187a9079d2",
   "metadata": {},
   "outputs": [],
   "source": [
    "\n",
    "plt.figure(figsize=(10, 6))\n",
    "plt.plot(data, label='Observed')\n",
    "plt.plot(hw_model.fittedvalues, label='Fitted', color='green')\n",
    "plt.plot(forecast, label='Forecast', color='red')\n",
    "plt.legend()\n",
    "plt.title('Holt-Winters Forecast')\n",
    "plt.show()\n"
   ]
  },
  {
   "cell_type": "code",
   "execution_count": null,
   "id": "bc2bd991-b261-41b2-86f0-a046813a92c6",
   "metadata": {},
   "outputs": [],
   "source": [
    "print(forecast)"
   ]
  },
  {
   "cell_type": "code",
   "execution_count": null,
   "id": "4340c832-b55c-44c7-8010-45a32a53ea49",
   "metadata": {},
   "outputs": [],
   "source": []
  }
 ],
 "metadata": {
  "kernelspec": {
   "display_name": "Python 3 (ipykernel)",
   "language": "python",
   "name": "python3"
  },
  "language_info": {
   "codemirror_mode": {
    "name": "ipython",
    "version": 3
   },
   "file_extension": ".py",
   "mimetype": "text/x-python",
   "name": "python",
   "nbconvert_exporter": "python",
   "pygments_lexer": "ipython3",
   "version": "3.12.2"
  }
 },
 "nbformat": 4,
 "nbformat_minor": 5
}
